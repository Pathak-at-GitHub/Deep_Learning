{
  "cells": [
    {
      "cell_type": "code",
      "execution_count": 2,
      "metadata": {
        "colab": {
          "base_uri": "https://localhost:8080/"
        },
        "id": "0opDlM7KqE8c",
        "outputId": "a6747479-f049-4a76-c694-49b949dc1526"
      },
      "outputs": [
        {
          "output_type": "stream",
          "name": "stdout",
          "text": [
            "Downloading data from https://storage.googleapis.com/tensorflow/tf-keras-datasets/mnist.npz\n",
            "11490434/11490434 [==============================] - 0s 0us/step\n"
          ]
        }
      ],
      "source": [
        "import numpy as np\n",
        "import tensorflow as tf\n",
        "from tensorflow import keras\n",
        "from keras import regularizers\n",
        "import matplotlib.pyplot as plt\n",
        "\n",
        "\n",
        "(x_train, y_train), (x_test, y_test) = tf.keras.datasets.mnist.load_data()"
      ]
    },
    {
      "cell_type": "markdown",
      "source": [
        "Training dataset"
      ],
      "metadata": {
        "id": "w4D3NJJHzrpG"
      }
    },
    {
      "cell_type": "code",
      "execution_count": 3,
      "metadata": {
        "colab": {
          "base_uri": "https://localhost:8080/",
          "height": 447
        },
        "id": "bSeMqCeWsFiR",
        "outputId": "a70eb2c5-70c8-4df4-80ee-2c0a331fc9e7"
      },
      "outputs": [
        {
          "output_type": "execute_result",
          "data": {
            "text/plain": [
              "<matplotlib.image.AxesImage at 0x7fbe91726d60>"
            ]
          },
          "metadata": {},
          "execution_count": 3
        },
        {
          "output_type": "display_data",
          "data": {
            "text/plain": [
              "<Figure size 640x480 with 1 Axes>"
            ],
            "image/png": "[encoded data removed]"
          },
          "metadata": {}
        }
      ],
      "source": [
        "plt.imshow(x_train[0], cmap = 'gray')"
      ]
    },
    {
      "cell_type": "code",
      "execution_count": 4,
      "metadata": {
        "colab": {
          "base_uri": "https://localhost:8080/"
        },
        "id": "55boPiclsU0M",
        "outputId": "be4c1d86-2016-429b-d14b-c75efc8b968a"
      },
      "outputs": [
        {
          "output_type": "execute_result",
          "data": {
            "text/plain": [
              "(60000, 28, 28)"
            ]
          },
          "metadata": {},
          "execution_count": 4
        }
      ],
      "source": [
        "x_train.shape"
      ]
    },
    {
      "cell_type": "code",
      "execution_count": 5,
      "metadata": {
        "colab": {
          "base_uri": "https://localhost:8080/"
        },
        "id": "4b_vnnr4sU2r",
        "outputId": "d8aee0d9-f2ed-47de-a33d-aa695f5e467f"
      },
      "outputs": [
        {
          "output_type": "execute_result",
          "data": {
            "text/plain": [
              "array([[  0,   0,   0,   0,   0,   0,   0,   0,   0,   0,   0,   0,   0,\n",
              "          0,   0,   0,   0,   0,   0,   0,   0,   0,   0,   0,   0,   0,\n",
              "          0,   0],\n",
              "       [  0,   0,   0,   0,   0,   0,   0,   0,   0,   0,   0,   0,   0,\n",
              "          0,   0,   0,   0,   0,   0,   0,   0,   0,   0,   0,   0,   0,\n",
              "          0,   0],\n",
              "       [  0,   0,   0,   0,   0,   0,   0,   0,   0,   0,   0,   0,   0,\n",
              "          0,   0,   0,   0,   0,   0,   0,   0,   0,   0,   0,   0,   0,\n",
              "          0,   0],\n",
              "       [  0,   0,   0,   0,   0,   0,   0,   0,   0,   0,   0,   0,   0,\n",
              "          0,   0,   0,   0,   0,   0,   0,   0,   0,   0,   0,   0,   0,\n",
              "          0,   0],\n",
              "       [  0,   0,   0,   0,   0,   0,   0,   0,   0,   0,   0,   0,   0,\n",
              "          0,   0,   0,   0,   0,   0,   0,   0,   0,   0,   0,   0,   0,\n",
              "          0,   0],\n",
              "       [  0,   0,   0,   0,   0,   0,   0,   0,   0,   0,   0,   0,   3,\n",
              "         18,  18,  18, 126, 136, 175,  26, 166, 255, 247, 127,   0,   0,\n",
              "          0,   0],\n",
              "       [  0,   0,   0,   0,   0,   0,   0,   0,  30,  36,  94, 154, 170,\n",
              "        253, 253, 253, 253, 253, 225, 172, 253, 242, 195,  64,   0,   0,\n",
              "          0,   0],\n",
              "       [  0,   0,   0,   0,   0,   0,   0,  49, 238, 253, 253, 253, 253,\n",
              "        253, 253, 253, 253, 251,  93,  82,  82,  56,  39,   0,   0,   0,\n",
              "          0,   0],\n",
              "       [  0,   0,   0,   0,   0,   0,   0,  18, 219, 253, 253, 253, 253,\n",
              "        253, 198, 182, 247, 241,   0,   0,   0,   0,   0,   0,   0,   0,\n",
              "          0,   0],\n",
              "       [  0,   0,   0,   0,   0,   0,   0,   0,  80, 156, 107, 253, 253,\n",
              "        205,  11,   0,  43, 154,   0,   0,   0,   0,   0,   0,   0,   0,\n",
              "          0,   0],\n",
              "       [  0,   0,   0,   0,   0,   0,   0,   0,   0,  14,   1, 154, 253,\n",
              "         90,   0,   0,   0,   0,   0,   0,   0,   0,   0,   0,   0,   0,\n",
              "          0,   0],\n",
              "       [  0,   0,   0,   0,   0,   0,   0,   0,   0,   0,   0, 139, 253,\n",
              "        190,   2,   0,   0,   0,   0,   0,   0,   0,   0,   0,   0,   0,\n",
              "          0,   0],\n",
              "       [  0,   0,   0,   0,   0,   0,   0,   0,   0,   0,   0,  11, 190,\n",
              "        253,  70,   0,   0,   0,   0,   0,   0,   0,   0,   0,   0,   0,\n",
              "          0,   0],\n",
              "       [  0,   0,   0,   0,   0,   0,   0,   0,   0,   0,   0,   0,  35,\n",
              "        241, 225, 160, 108,   1,   0,   0,   0,   0,   0,   0,   0,   0,\n",
              "          0,   0],\n",
              "       [  0,   0,   0,   0,   0,   0,   0,   0,   0,   0,   0,   0,   0,\n",
              "         81, 240, 253, 253, 119,  25,   0,   0,   0,   0,   0,   0,   0,\n",
              "          0,   0],\n",
              "       [  0,   0,   0,   0,   0,   0,   0,   0,   0,   0,   0,   0,   0,\n",
              "          0,  45, 186, 253, 253, 150,  27,   0,   0,   0,   0,   0,   0,\n",
              "          0,   0],\n",
              "       [  0,   0,   0,   0,   0,   0,   0,   0,   0,   0,   0,   0,   0,\n",
              "          0,   0,  16,  93, 252, 253, 187,   0,   0,   0,   0,   0,   0,\n",
              "          0,   0],\n",
              "       [  0,   0,   0,   0,   0,   0,   0,   0,   0,   0,   0,   0,   0,\n",
              "          0,   0,   0,   0, 249, 253, 249,  64,   0,   0,   0,   0,   0,\n",
              "          0,   0],\n",
              "       [  0,   0,   0,   0,   0,   0,   0,   0,   0,   0,   0,   0,   0,\n",
              "          0,  46, 130, 183, 253, 253, 207,   2,   0,   0,   0,   0,   0,\n",
              "          0,   0],\n",
              "       [  0,   0,   0,   0,   0,   0,   0,   0,   0,   0,   0,   0,  39,\n",
              "        148, 229, 253, 253, 253, 250, 182,   0,   0,   0,   0,   0,   0,\n",
              "          0,   0],\n",
              "       [  0,   0,   0,   0,   0,   0,   0,   0,   0,   0,  24, 114, 221,\n",
              "        253, 253, 253, 253, 201,  78,   0,   0,   0,   0,   0,   0,   0,\n",
              "          0,   0],\n",
              "       [  0,   0,   0,   0,   0,   0,   0,   0,  23,  66, 213, 253, 253,\n",
              "        253, 253, 198,  81,   2,   0,   0,   0,   0,   0,   0,   0,   0,\n",
              "          0,   0],\n",
              "       [  0,   0,   0,   0,   0,   0,  18, 171, 219, 253, 253, 253, 253,\n",
              "        195,  80,   9,   0,   0,   0,   0,   0,   0,   0,   0,   0,   0,\n",
              "          0,   0],\n",
              "       [  0,   0,   0,   0,  55, 172, 226, 253, 253, 253, 253, 244, 133,\n",
              "         11,   0,   0,   0,   0,   0,   0,   0,   0,   0,   0,   0,   0,\n",
              "          0,   0],\n",
              "       [  0,   0,   0,   0, 136, 253, 253, 253, 212, 135, 132,  16,   0,\n",
              "          0,   0,   0,   0,   0,   0,   0,   0,   0,   0,   0,   0,   0,\n",
              "          0,   0],\n",
              "       [  0,   0,   0,   0,   0,   0,   0,   0,   0,   0,   0,   0,   0,\n",
              "          0,   0,   0,   0,   0,   0,   0,   0,   0,   0,   0,   0,   0,\n",
              "          0,   0],\n",
              "       [  0,   0,   0,   0,   0,   0,   0,   0,   0,   0,   0,   0,   0,\n",
              "          0,   0,   0,   0,   0,   0,   0,   0,   0,   0,   0,   0,   0,\n",
              "          0,   0],\n",
              "       [  0,   0,   0,   0,   0,   0,   0,   0,   0,   0,   0,   0,   0,\n",
              "          0,   0,   0,   0,   0,   0,   0,   0,   0,   0,   0,   0,   0,\n",
              "          0,   0]], dtype=uint8)"
            ]
          },
          "metadata": {},
          "execution_count": 5
        }
      ],
      "source": [
        "x_train[0]"
      ]
    },
    {
      "cell_type": "markdown",
      "source": [
        "Normalizing the dataset"
      ],
      "metadata": {
        "id": "sxj-CMnH0FlT"
      }
    },
    {
      "cell_type": "code",
      "execution_count": 6,
      "metadata": {
        "id": "qRZb6C7ksU5T"
      },
      "outputs": [],
      "source": [
        "x_train = x_train/255.0\n",
        "x_test = x_test/255.0"
      ]
    },
    {
      "cell_type": "code",
      "source": [
        "x_train.shape"
      ],
      "metadata": {
        "colab": {
          "base_uri": "https://localhost:8080/"
        },
        "id": "Iq62eH-k0nGm",
        "outputId": "abb7c485-cb3a-4730-b707-d5ed1afb8aab"
      },
      "execution_count": 7,
      "outputs": [
        {
          "output_type": "execute_result",
          "data": {
            "text/plain": [
              "(60000, 28, 28)"
            ]
          },
          "metadata": {},
          "execution_count": 7
        }
      ]
    },
    {
      "cell_type": "markdown",
      "source": [
        "Defining input and output for encoder with li regularization"
      ],
      "metadata": {
        "id": "AH8NUtpd1N-m"
      }
    },
    {
      "cell_type": "code",
      "execution_count": 8,
      "metadata": {
        "id": "NLCs9DxotBIh"
      },
      "outputs": [],
      "source": [
        "encoder_input = keras.Input(shape = (28,28,1),name = 'Image')\n",
        "x = keras.layers.Flatten()(encoder_input)\n",
        "encoder_out = keras.layers.Dense(64, activation = 'relu', kernel_regularizer=regularizers.l2(10e-5))(x)"
      ]
    },
    {
      "cell_type": "code",
      "execution_count": 9,
      "metadata": {
        "id": "2aQMbQO3tBLV"
      },
      "outputs": [],
      "source": [
        "encoder = keras.Model(encoder_input, encoder_out, name=\"encoder\")"
      ]
    },
    {
      "cell_type": "code",
      "source": [
        "# encoder.compile(keras.optimizers.Adam(learning_rate=0.001), loss=\"mse\", metrics = ['accuracy'] )"
      ],
      "metadata": {
        "id": "0-Uv0Ivi6tqL"
      },
      "execution_count": 10,
      "outputs": []
    },
    {
      "cell_type": "code",
      "source": [
        "# encoder.fit(x_train, x_train, epochs = 50, batch_size = 32, validation_split = 0.1,shuffle = True)"
      ],
      "metadata": {
        "id": "V4jlKwbm1dcJ"
      },
      "execution_count": 11,
      "outputs": []
    },
    {
      "cell_type": "code",
      "source": [
        "# plt.imshow(encoder.predict([x_test[0].reshape(-1,28,28,1)])[0])"
      ],
      "metadata": {
        "id": "uUx2A81018qS"
      },
      "execution_count": 12,
      "outputs": []
    },
    {
      "cell_type": "code",
      "source": [
        "decoder_input = keras.layers.Dense(784, activation=\"relu\")(encoder_out)"
      ],
      "metadata": {
        "id": "_wCWlchN2ucL"
      },
      "execution_count": 13,
      "outputs": []
    },
    {
      "cell_type": "code",
      "source": [
        "decoder_output = keras.layers.Reshape((28,28,1))(decoder_input)"
      ],
      "metadata": {
        "id": "Db_mXZX62xco"
      },
      "execution_count": 14,
      "outputs": []
    },
    {
      "cell_type": "code",
      "source": [
        "autoencoder =keras.Model(encoder_input, decoder_output, name = \"autoencoder\")"
      ],
      "metadata": {
        "id": "j0kXADd84Q3U"
      },
      "execution_count": 15,
      "outputs": []
    },
    {
      "cell_type": "code",
      "source": [
        "autoencoder.summary()"
      ],
      "metadata": {
        "colab": {
          "base_uri": "https://localhost:8080/"
        },
        "id": "ULRaYwTp4Qz1",
        "outputId": "23ea3b9b-ed1e-4e2a-b466-c3b688d5728a"
      },
      "execution_count": 16,
      "outputs": [
        {
          "output_type": "stream",
          "name": "stdout",
          "text": [
            "Model: \"autoencoder\"\n",
            "_________________________________________________________________\n",
            " Layer (type)                Output Shape              Param #   \n",
            "=================================================================\n",
            " Image (InputLayer)          [(None, 28, 28, 1)]       0         \n",
            "                                                                 \n",
            " flatten (Flatten)           (None, 784)               0         \n",
            "                                                                 \n",
            " dense (Dense)               (None, 64)                50240     \n",
            "                                                                 \n",
            " dense_1 (Dense)             (None, 784)               50960     \n",
            "                                                                 \n",
            " reshape (Reshape)           (None, 28, 28, 1)         0         \n",
            "                                                                 \n",
            "=================================================================\n",
            "Total params: 101,200\n",
            "Trainable params: 101,200\n",
            "Non-trainable params: 0\n",
            "_________________________________________________________________\n"
          ]
        }
      ]
    },
    {
      "cell_type": "code",
      "source": [
        "autoencoder.compile(keras.optimizers.Adam(learning_rate=0.001), loss=\"mse\", metrics = ['accuracy'] )"
      ],
      "metadata": {
        "id": "bn6hvU_x2QiL"
      },
      "execution_count": 17,
      "outputs": []
    },
    {
      "cell_type": "code",
      "source": [
        "autoencoder.fit(x_train, x_train, epochs = 50, batch_size = 32, validation_split = 0.1,shuffle = True)"
      ],
      "metadata": {
        "colab": {
          "base_uri": "https://localhost:8080/"
        },
        "id": "-UrltAia2Qeq",
        "outputId": "e30d2964-7aa3-45c6-cecf-040f672fb3c1"
      },
      "execution_count": 28,
      "outputs": [
        {
          "output_type": "stream",
          "name": "stdout",
          "text": [
            "Epoch 1/50\n",
            "1688/1688 [==============================] - 8s 4ms/step - loss: 0.0196 - accuracy: 0.8134 - val_loss: 0.0134 - val_accuracy: 0.8150\n",
            "Epoch 2/50\n",
            "1688/1688 [==============================] - 6s 4ms/step - loss: 0.0124 - accuracy: 0.8149 - val_loss: 0.0118 - val_accuracy: 0.8152\n",
            "Epoch 3/50\n",
            "1688/1688 [==============================] - 6s 3ms/step - loss: 0.0114 - accuracy: 0.8150 - val_loss: 0.0110 - val_accuracy: 0.8152\n",
            "Epoch 4/50\n",
            "1688/1688 [==============================] - 6s 4ms/step - loss: 0.0109 - accuracy: 0.8150 - val_loss: 0.0108 - val_accuracy: 0.8152\n",
            "Epoch 5/50\n",
            "1688/1688 [==============================] - 5s 3ms/step - loss: 0.0106 - accuracy: 0.8150 - val_loss: 0.0105 - val_accuracy: 0.8152\n",
            "Epoch 6/50\n",
            "1688/1688 [==============================] - 6s 4ms/step - loss: 0.0105 - accuracy: 0.8150 - val_loss: 0.0104 - val_accuracy: 0.8152\n",
            "Epoch 7/50\n",
            "1688/1688 [==============================] - 5s 3ms/step - loss: 0.0103 - accuracy: 0.8150 - val_loss: 0.0105 - val_accuracy: 0.8152\n",
            "Epoch 8/50\n",
            "1688/1688 [==============================] - 6s 4ms/step - loss: 0.0103 - accuracy: 0.8150 - val_loss: 0.0102 - val_accuracy: 0.8152\n",
            "Epoch 9/50\n",
            "1688/1688 [==============================] - 5s 3ms/step - loss: 0.0102 - accuracy: 0.8150 - val_loss: 0.0102 - val_accuracy: 0.8152\n",
            "Epoch 10/50\n",
            "1688/1688 [==============================] - 6s 4ms/step - loss: 0.0102 - accuracy: 0.8150 - val_loss: 0.0102 - val_accuracy: 0.8152\n",
            "Epoch 11/50\n",
            "1688/1688 [==============================] - 5s 3ms/step - loss: 0.0101 - accuracy: 0.8151 - val_loss: 0.0101 - val_accuracy: 0.8152\n",
            "Epoch 12/50\n",
            "1688/1688 [==============================] - 6s 4ms/step - loss: 0.0101 - accuracy: 0.8151 - val_loss: 0.0101 - val_accuracy: 0.8152\n",
            "Epoch 13/50\n",
            "1688/1688 [==============================] - 5s 3ms/step - loss: 0.0101 - accuracy: 0.8151 - val_loss: 0.0101 - val_accuracy: 0.8152\n",
            "Epoch 14/50\n",
            "1688/1688 [==============================] - 6s 4ms/step - loss: 0.0100 - accuracy: 0.8151 - val_loss: 0.0100 - val_accuracy: 0.8152\n",
            "Epoch 15/50\n",
            "1688/1688 [==============================] - 5s 3ms/step - loss: 0.0100 - accuracy: 0.8151 - val_loss: 0.0100 - val_accuracy: 0.8152\n",
            "Epoch 16/50\n",
            "1688/1688 [==============================] - 6s 4ms/step - loss: 0.0100 - accuracy: 0.8151 - val_loss: 0.0102 - val_accuracy: 0.8152\n",
            "Epoch 17/50\n",
            "1688/1688 [==============================] - 6s 4ms/step - loss: 0.0100 - accuracy: 0.8151 - val_loss: 0.0100 - val_accuracy: 0.8152\n",
            "Epoch 18/50\n",
            "1688/1688 [==============================] - 6s 3ms/step - loss: 0.0100 - accuracy: 0.8151 - val_loss: 0.0100 - val_accuracy: 0.8152\n",
            "Epoch 19/50\n",
            "1688/1688 [==============================] - 6s 4ms/step - loss: 0.0100 - accuracy: 0.8151 - val_loss: 0.0101 - val_accuracy: 0.8152\n",
            "Epoch 20/50\n",
            "1688/1688 [==============================] - 5s 3ms/step - loss: 0.0100 - accuracy: 0.8151 - val_loss: 0.0100 - val_accuracy: 0.8152\n",
            "Epoch 21/50\n",
            "1688/1688 [==============================] - 6s 4ms/step - loss: 0.0100 - accuracy: 0.8151 - val_loss: 0.0099 - val_accuracy: 0.8152\n",
            "Epoch 22/50\n",
            "1688/1688 [==============================] - 6s 3ms/step - loss: 0.0100 - accuracy: 0.8151 - val_loss: 0.0101 - val_accuracy: 0.8152\n",
            "Epoch 23/50\n",
            "1688/1688 [==============================] - 6s 4ms/step - loss: 0.0100 - accuracy: 0.8151 - val_loss: 0.0101 - val_accuracy: 0.8152\n",
            "Epoch 24/50\n",
            "1688/1688 [==============================] - 5s 3ms/step - loss: 0.0100 - accuracy: 0.8151 - val_loss: 0.0099 - val_accuracy: 0.8152\n",
            "Epoch 25/50\n",
            "1688/1688 [==============================] - 7s 4ms/step - loss: 0.0100 - accuracy: 0.8151 - val_loss: 0.0099 - val_accuracy: 0.8152\n",
            "Epoch 26/50\n",
            "1688/1688 [==============================] - 7s 4ms/step - loss: 0.0099 - accuracy: 0.8151 - val_loss: 0.0100 - val_accuracy: 0.8152\n",
            "Epoch 27/50\n",
            "1688/1688 [==============================] - 8s 5ms/step - loss: 0.0099 - accuracy: 0.8151 - val_loss: 0.0099 - val_accuracy: 0.8152\n",
            "Epoch 28/50\n",
            "1688/1688 [==============================] - 8s 5ms/step - loss: 0.0099 - accuracy: 0.8151 - val_loss: 0.0100 - val_accuracy: 0.8152\n",
            "Epoch 29/50\n",
            "1688/1688 [==============================] - 6s 3ms/step - loss: 0.0099 - accuracy: 0.8151 - val_loss: 0.0100 - val_accuracy: 0.8152\n",
            "Epoch 30/50\n",
            "1688/1688 [==============================] - 6s 4ms/step - loss: 0.0099 - accuracy: 0.8151 - val_loss: 0.0100 - val_accuracy: 0.8152\n",
            "Epoch 31/50\n",
            "1688/1688 [==============================] - 6s 3ms/step - loss: 0.0099 - accuracy: 0.8151 - val_loss: 0.0099 - val_accuracy: 0.8153\n",
            "Epoch 32/50\n",
            "1688/1688 [==============================] - 6s 4ms/step - loss: 0.0099 - accuracy: 0.8151 - val_loss: 0.0100 - val_accuracy: 0.8152\n",
            "Epoch 33/50\n",
            "1688/1688 [==============================] - 6s 3ms/step - loss: 0.0099 - accuracy: 0.8151 - val_loss: 0.0099 - val_accuracy: 0.8152\n",
            "Epoch 34/50\n",
            "1688/1688 [==============================] - 6s 4ms/step - loss: 0.0099 - accuracy: 0.8151 - val_loss: 0.0099 - val_accuracy: 0.8152\n",
            "Epoch 35/50\n",
            "1688/1688 [==============================] - 6s 3ms/step - loss: 0.0099 - accuracy: 0.8151 - val_loss: 0.0100 - val_accuracy: 0.8152\n",
            "Epoch 36/50\n",
            "1688/1688 [==============================] - 6s 4ms/step - loss: 0.0099 - accuracy: 0.8151 - val_loss: 0.0099 - val_accuracy: 0.8152\n",
            "Epoch 37/50\n",
            "1688/1688 [==============================] - 5s 3ms/step - loss: 0.0099 - accuracy: 0.8151 - val_loss: 0.0099 - val_accuracy: 0.8152\n",
            "Epoch 38/50\n",
            "1688/1688 [==============================] - 6s 4ms/step - loss: 0.0099 - accuracy: 0.8151 - val_loss: 0.0101 - val_accuracy: 0.8152\n",
            "Epoch 39/50\n",
            "1688/1688 [==============================] - 6s 3ms/step - loss: 0.0099 - accuracy: 0.8151 - val_loss: 0.0099 - val_accuracy: 0.8152\n",
            "Epoch 40/50\n",
            "1688/1688 [==============================] - 6s 4ms/step - loss: 0.0099 - accuracy: 0.8151 - val_loss: 0.0099 - val_accuracy: 0.8153\n",
            "Epoch 41/50\n",
            "1688/1688 [==============================] - 6s 3ms/step - loss: 0.0099 - accuracy: 0.8151 - val_loss: 0.0100 - val_accuracy: 0.8152\n",
            "Epoch 42/50\n",
            "1688/1688 [==============================] - 7s 4ms/step - loss: 0.0099 - accuracy: 0.8151 - val_loss: 0.0099 - val_accuracy: 0.8152\n",
            "Epoch 43/50\n",
            "1688/1688 [==============================] - 7s 4ms/step - loss: 0.0099 - accuracy: 0.8151 - val_loss: 0.0100 - val_accuracy: 0.8152\n",
            "Epoch 44/50\n",
            "1688/1688 [==============================] - 6s 4ms/step - loss: 0.0099 - accuracy: 0.8151 - val_loss: 0.0099 - val_accuracy: 0.8152\n",
            "Epoch 45/50\n",
            "1688/1688 [==============================] - 6s 3ms/step - loss: 0.0099 - accuracy: 0.8151 - val_loss: 0.0100 - val_accuracy: 0.8152\n",
            "Epoch 46/50\n",
            "1688/1688 [==============================] - 7s 4ms/step - loss: 0.0099 - accuracy: 0.8151 - val_loss: 0.0100 - val_accuracy: 0.8152\n",
            "Epoch 47/50\n",
            "1688/1688 [==============================] - 6s 3ms/step - loss: 0.0099 - accuracy: 0.8151 - val_loss: 0.0099 - val_accuracy: 0.8152\n",
            "Epoch 48/50\n",
            "1688/1688 [==============================] - 6s 4ms/step - loss: 0.0099 - accuracy: 0.8151 - val_loss: 0.0099 - val_accuracy: 0.8152\n",
            "Epoch 49/50\n",
            "1688/1688 [==============================] - 5s 3ms/step - loss: 0.0099 - accuracy: 0.8151 - val_loss: 0.0101 - val_accuracy: 0.8152\n",
            "Epoch 50/50\n",
            "1688/1688 [==============================] - 6s 4ms/step - loss: 0.0099 - accuracy: 0.8151 - val_loss: 0.0099 - val_accuracy: 0.8152\n"
          ]
        },
        {
          "output_type": "execute_result",
          "data": {
            "text/plain": [
              "<keras.callbacks.History at 0x7fe4fc26f730>"
            ]
          },
          "metadata": {},
          "execution_count": 28
        }
      ]
    },
    {
      "cell_type": "code",
      "source": [
        "encoded_imgs = autoencoder.predict(x_test)\n",
        "decoded_imgs = autoencoder.predict(encoded_imgs)"
      ],
      "metadata": {
        "colab": {
          "base_uri": "https://localhost:8080/"
        },
        "id": "N81Y9OT62Qbp",
        "outputId": "0ca255c9-ab06-40b1-910c-73e1ce0ff863"
      },
      "execution_count": 29,
      "outputs": [
        {
          "output_type": "stream",
          "name": "stdout",
          "text": [
            "313/313 [==============================] - 1s 2ms/step\n",
            "313/313 [==============================] - 1s 2ms/step\n"
          ]
        }
      ]
    },
    {
      "cell_type": "code",
      "source": [
        "n = 10\n",
        "plt.figure(figsize=(20, 4))\n",
        "for i in range(n):\n",
        "    # Display original images\n",
        "    ax = plt.subplot(2, n, i + 1)\n",
        "    plt.imshow(x_test[i].reshape(28, 28))\n",
        "    plt.gray()\n",
        "    ax.get_xaxis().set_visible(False)\n",
        "    ax.get_yaxis().set_visible(False)\n",
        "\n",
        "plt.show()"
      ],
      "metadata": {
        "colab": {
          "base_uri": "https://localhost:8080/",
          "height": 153
        },
        "id": "KRgG7DRN2QYa",
        "outputId": "661cfea7-d9d2-42ef-be5e-89ae2a6b91e4"
      },
      "execution_count": 31,
      "outputs": [
        {
          "output_type": "display_data",
          "data": {
            "text/plain": [
              "<Figure size 2000x400 with 10 Axes>"
            ],
            "image/png": "[encoded data removed]"
          },
          "metadata": {}
        }
      ]
    },
    {
      "cell_type": "code",
      "source": [
        "plt.figure(figsize=(20, 4))\n",
        "for i in range(n):\n",
        "      # Display reconstructed images\n",
        "    ax = plt.subplot(2, n, i + n + 1)\n",
        "    plt.imshow(decoded_imgs[i].reshape(28, 28))\n",
        "    plt.gray()\n",
        "    ax.get_xaxis().set_visible(False)\n",
        "    ax.get_yaxis().set_visible(False)\n",
        "plt.show()"
      ],
      "metadata": {
        "colab": {
          "base_uri": "https://localhost:8080/",
          "height": 153
        },
        "id": "UqS-Hunz2QVd",
        "outputId": "d7ee28a5-3556-454c-87e4-52568704c0f6"
      },
      "execution_count": 33,
      "outputs": [
        {
          "output_type": "display_data",
          "data": {
            "text/plain": [
              "<Figure size 2000x400 with 10 Axes>"
            ],
            "image/png": "[encoded data removed]"
          },
          "metadata": {}
        }
      ]
    },
    {
      "cell_type": "code",
      "source": [],
      "metadata": {
        "id": "fc-_RbvP2QSm"
      },
      "execution_count": null,
      "outputs": []
    },
    {
      "cell_type": "markdown",
      "source": [
        "Autoencoder with l1 regularization"
      ],
      "metadata": {
        "id": "eitZWmtxL6of"
      }
    },
    {
      "cell_type": "code",
      "source": [
        "encoder_with_l1_input = keras.Input(shape = (28,28,1),name = 'Image')\n",
        "##\n",
        "x = keras.layers.Flatten()(encoder_with_l1_input)\n",
        "##\n",
        "encoder_with_l1_out = keras.layers.Dense(64, activation = 'relu', activity_regularizer=regularizers.l1(10e-5))(x)\n",
        "##\n",
        "encoder_with_l1 = keras.Model(encoder_with_l1_input, encoder_with_l1_out , name=\"encoder\")\n",
        "##\n",
        "decoder_l1_input = keras.layers.Dense(784, activation=\"relu\")(encoder_with_l1_out )\n",
        "##\n",
        "decoder_l1_output = keras.layers.Reshape((28,28,1))(decoder_l1_input)\n",
        "##\n",
        "autoencoder_with_l1 =keras.Model(encoder_with_l1_input, decoder_l1_output, name = \"autoencoder\")\n",
        "##\n",
        "autoencoder_with_l1.summary()"
      ],
      "metadata": {
        "colab": {
          "base_uri": "https://localhost:8080/"
        },
        "id": "Dcu0FRXY2QQC",
        "outputId": "7f8c7225-4681-4ba2-e625-14e80d89167e"
      },
      "execution_count": 19,
      "outputs": [
        {
          "output_type": "stream",
          "name": "stdout",
          "text": [
            "Model: \"autoencoder\"\n",
            "_________________________________________________________________\n",
            " Layer (type)                Output Shape              Param #   \n",
            "=================================================================\n",
            " Image (InputLayer)          [(None, 28, 28, 1)]       0         \n",
            "                                                                 \n",
            " flatten_2 (Flatten)         (None, 784)               0         \n",
            "                                                                 \n",
            " dense_2 (Dense)             (None, 64)                50240     \n",
            "                                                                 \n",
            " dense_3 (Dense)             (None, 784)               50960     \n",
            "                                                                 \n",
            " reshape_1 (Reshape)         (None, 28, 28, 1)         0         \n",
            "                                                                 \n",
            "=================================================================\n",
            "Total params: 101,200\n",
            "Trainable params: 101,200\n",
            "Non-trainable params: 0\n",
            "_________________________________________________________________\n"
          ]
        }
      ]
    },
    {
      "cell_type": "code",
      "source": [
        "autoencoder_with_l1.compile(keras.optimizers.Adam(learning_rate=0.001), loss=\"mse\", metrics = ['accuracy'] )"
      ],
      "metadata": {
        "id": "Om94DSkH2QNM"
      },
      "execution_count": 29,
      "outputs": []
    },
    {
      "cell_type": "code",
      "source": [
        "autoencoder_with_l1.fit(x_train, x_train, epochs = 50, batch_size = 32, validation_split = 0.1,shuffle = True)"
      ],
      "metadata": {
        "colab": {
          "base_uri": "https://localhost:8080/"
        },
        "id": "A3hGpeek2QKW",
        "outputId": "48be75fc-5356-48c9-fd48-929348138f32"
      },
      "execution_count": 30,
      "outputs": [
        {
          "output_type": "stream",
          "name": "stdout",
          "text": [
            "Epoch 1/50\n",
            "1688/1688 [==============================] - 8s 4ms/step - loss: 0.0196 - accuracy: 0.8134 - val_loss: 0.0134 - val_accuracy: 0.8151\n",
            "Epoch 2/50\n",
            "1688/1688 [==============================] - 8s 5ms/step - loss: 0.0125 - accuracy: 0.8150 - val_loss: 0.0119 - val_accuracy: 0.8152\n",
            "Epoch 3/50\n",
            "1688/1688 [==============================] - 6s 3ms/step - loss: 0.0115 - accuracy: 0.8151 - val_loss: 0.0113 - val_accuracy: 0.8152\n",
            "Epoch 4/50\n",
            "1688/1688 [==============================] - 7s 4ms/step - loss: 0.0110 - accuracy: 0.8151 - val_loss: 0.0108 - val_accuracy: 0.8153\n",
            "Epoch 5/50\n",
            "1688/1688 [==============================] - 6s 4ms/step - loss: 0.0107 - accuracy: 0.8151 - val_loss: 0.0106 - val_accuracy: 0.8153\n",
            "Epoch 6/50\n",
            "1688/1688 [==============================] - 9s 5ms/step - loss: 0.0105 - accuracy: 0.8151 - val_loss: 0.0105 - val_accuracy: 0.8153\n",
            "Epoch 7/50\n",
            "1688/1688 [==============================] - 9s 5ms/step - loss: 0.0103 - accuracy: 0.8151 - val_loss: 0.0103 - val_accuracy: 0.8153\n",
            "Epoch 8/50\n",
            "1688/1688 [==============================] - 6s 3ms/step - loss: 0.0101 - accuracy: 0.8151 - val_loss: 0.0101 - val_accuracy: 0.8153\n",
            "Epoch 9/50\n",
            "1688/1688 [==============================] - 7s 4ms/step - loss: 0.0100 - accuracy: 0.8151 - val_loss: 0.0101 - val_accuracy: 0.8153\n",
            "Epoch 10/50\n",
            "1688/1688 [==============================] - 6s 3ms/step - loss: 0.0100 - accuracy: 0.8151 - val_loss: 0.0100 - val_accuracy: 0.8153\n",
            "Epoch 11/50\n",
            "1688/1688 [==============================] - 7s 4ms/step - loss: 0.0099 - accuracy: 0.8151 - val_loss: 0.0100 - val_accuracy: 0.8153\n",
            "Epoch 12/50\n",
            "1688/1688 [==============================] - 6s 3ms/step - loss: 0.0099 - accuracy: 0.8151 - val_loss: 0.0100 - val_accuracy: 0.8153\n",
            "Epoch 13/50\n",
            "1688/1688 [==============================] - 6s 4ms/step - loss: 0.0098 - accuracy: 0.8151 - val_loss: 0.0100 - val_accuracy: 0.8153\n",
            "Epoch 14/50\n",
            "1688/1688 [==============================] - 6s 3ms/step - loss: 0.0098 - accuracy: 0.8151 - val_loss: 0.0098 - val_accuracy: 0.8153\n",
            "Epoch 15/50\n",
            "1688/1688 [==============================] - 6s 4ms/step - loss: 0.0098 - accuracy: 0.8151 - val_loss: 0.0098 - val_accuracy: 0.8153\n",
            "Epoch 16/50\n",
            "1688/1688 [==============================] - 6s 3ms/step - loss: 0.0098 - accuracy: 0.8151 - val_loss: 0.0099 - val_accuracy: 0.8153\n",
            "Epoch 17/50\n",
            "1688/1688 [==============================] - 7s 4ms/step - loss: 0.0097 - accuracy: 0.8151 - val_loss: 0.0097 - val_accuracy: 0.8153\n",
            "Epoch 18/50\n",
            "1688/1688 [==============================] - 6s 3ms/step - loss: 0.0097 - accuracy: 0.8151 - val_loss: 0.0098 - val_accuracy: 0.8153\n",
            "Epoch 19/50\n",
            "1688/1688 [==============================] - 7s 4ms/step - loss: 0.0097 - accuracy: 0.8151 - val_loss: 0.0096 - val_accuracy: 0.8153\n",
            "Epoch 20/50\n",
            "1688/1688 [==============================] - 6s 3ms/step - loss: 0.0097 - accuracy: 0.8151 - val_loss: 0.0096 - val_accuracy: 0.8153\n",
            "Epoch 21/50\n",
            "1688/1688 [==============================] - 6s 4ms/step - loss: 0.0097 - accuracy: 0.8151 - val_loss: 0.0099 - val_accuracy: 0.8153\n",
            "Epoch 22/50\n",
            "1688/1688 [==============================] - 8s 5ms/step - loss: 0.0097 - accuracy: 0.8151 - val_loss: 0.0097 - val_accuracy: 0.8153\n",
            "Epoch 23/50\n",
            "1688/1688 [==============================] - 6s 4ms/step - loss: 0.0096 - accuracy: 0.8151 - val_loss: 0.0097 - val_accuracy: 0.8153\n",
            "Epoch 24/50\n",
            "1688/1688 [==============================] - 6s 3ms/step - loss: 0.0097 - accuracy: 0.8151 - val_loss: 0.0097 - val_accuracy: 0.8153\n",
            "Epoch 25/50\n",
            "1688/1688 [==============================] - 6s 4ms/step - loss: 0.0096 - accuracy: 0.8151 - val_loss: 0.0097 - val_accuracy: 0.8153\n",
            "Epoch 26/50\n",
            "1688/1688 [==============================] - 6s 3ms/step - loss: 0.0096 - accuracy: 0.8151 - val_loss: 0.0097 - val_accuracy: 0.8153\n",
            "Epoch 27/50\n",
            "1688/1688 [==============================] - 7s 4ms/step - loss: 0.0096 - accuracy: 0.8151 - val_loss: 0.0098 - val_accuracy: 0.8153\n",
            "Epoch 28/50\n",
            "1688/1688 [==============================] - 6s 3ms/step - loss: 0.0096 - accuracy: 0.8151 - val_loss: 0.0099 - val_accuracy: 0.8153\n",
            "Epoch 29/50\n",
            "1688/1688 [==============================] - 6s 4ms/step - loss: 0.0096 - accuracy: 0.8151 - val_loss: 0.0097 - val_accuracy: 0.8153\n",
            "Epoch 30/50\n",
            "1688/1688 [==============================] - 6s 3ms/step - loss: 0.0096 - accuracy: 0.8151 - val_loss: 0.0098 - val_accuracy: 0.8153\n",
            "Epoch 31/50\n",
            "1688/1688 [==============================] - 6s 4ms/step - loss: 0.0096 - accuracy: 0.8151 - val_loss: 0.0097 - val_accuracy: 0.8153\n",
            "Epoch 32/50\n",
            "1688/1688 [==============================] - 6s 4ms/step - loss: 0.0096 - accuracy: 0.8151 - val_loss: 0.0097 - val_accuracy: 0.8153\n",
            "Epoch 33/50\n",
            "1688/1688 [==============================] - 7s 4ms/step - loss: 0.0096 - accuracy: 0.8151 - val_loss: 0.0097 - val_accuracy: 0.8153\n",
            "Epoch 34/50\n",
            "1688/1688 [==============================] - 6s 3ms/step - loss: 0.0096 - accuracy: 0.8151 - val_loss: 0.0097 - val_accuracy: 0.8153\n",
            "Epoch 35/50\n",
            "1688/1688 [==============================] - 6s 4ms/step - loss: 0.0096 - accuracy: 0.8151 - val_loss: 0.0097 - val_accuracy: 0.8153\n",
            "Epoch 36/50\n",
            "1688/1688 [==============================] - 6s 3ms/step - loss: 0.0096 - accuracy: 0.8151 - val_loss: 0.0097 - val_accuracy: 0.8153\n",
            "Epoch 37/50\n",
            "1688/1688 [==============================] - 7s 4ms/step - loss: 0.0096 - accuracy: 0.8151 - val_loss: 0.0095 - val_accuracy: 0.8153\n",
            "Epoch 38/50\n",
            "1688/1688 [==============================] - 6s 3ms/step - loss: 0.0096 - accuracy: 0.8151 - val_loss: 0.0096 - val_accuracy: 0.8153\n",
            "Epoch 39/50\n",
            "1688/1688 [==============================] - 7s 4ms/step - loss: 0.0096 - accuracy: 0.8151 - val_loss: 0.0098 - val_accuracy: 0.8153\n",
            "Epoch 40/50\n",
            "1688/1688 [==============================] - 6s 3ms/step - loss: 0.0096 - accuracy: 0.8151 - val_loss: 0.0096 - val_accuracy: 0.8153\n",
            "Epoch 41/50\n",
            "1688/1688 [==============================] - 6s 4ms/step - loss: 0.0096 - accuracy: 0.8151 - val_loss: 0.0097 - val_accuracy: 0.8153\n",
            "Epoch 42/50\n",
            "1688/1688 [==============================] - 6s 4ms/step - loss: 0.0096 - accuracy: 0.8151 - val_loss: 0.0096 - val_accuracy: 0.8153\n",
            "Epoch 43/50\n",
            "1688/1688 [==============================] - 6s 4ms/step - loss: 0.0096 - accuracy: 0.8151 - val_loss: 0.0102 - val_accuracy: 0.8153\n",
            "Epoch 44/50\n",
            "1688/1688 [==============================] - 6s 3ms/step - loss: 0.0096 - accuracy: 0.8151 - val_loss: 0.0097 - val_accuracy: 0.8153\n",
            "Epoch 45/50\n",
            "1688/1688 [==============================] - 9s 5ms/step - loss: 0.0096 - accuracy: 0.8151 - val_loss: 0.0098 - val_accuracy: 0.8153\n",
            "Epoch 46/50\n",
            "1688/1688 [==============================] - 8s 5ms/step - loss: 0.0095 - accuracy: 0.8151 - val_loss: 0.0096 - val_accuracy: 0.8153\n",
            "Epoch 47/50\n",
            "1688/1688 [==============================] - 7s 4ms/step - loss: 0.0096 - accuracy: 0.8151 - val_loss: 0.0096 - val_accuracy: 0.8153\n",
            "Epoch 48/50\n",
            "1688/1688 [==============================] - 6s 4ms/step - loss: 0.0095 - accuracy: 0.8151 - val_loss: 0.0096 - val_accuracy: 0.8153\n",
            "Epoch 49/50\n",
            "1688/1688 [==============================] - 6s 4ms/step - loss: 0.0095 - accuracy: 0.8151 - val_loss: 0.0098 - val_accuracy: 0.8153\n",
            "Epoch 50/50\n",
            "1688/1688 [==============================] - 7s 4ms/step - loss: 0.0096 - accuracy: 0.8151 - val_loss: 0.0096 - val_accuracy: 0.8153\n"
          ]
        },
        {
          "output_type": "execute_result",
          "data": {
            "text/plain": [
              "<keras.callbacks.History at 0x7fbde8340d60>"
            ]
          },
          "metadata": {},
          "execution_count": 30
        }
      ]
    },
    {
      "cell_type": "code",
      "source": [
        "encoded_imgs_l1 = autoencoder_with_l1.predict(x_test)\n",
        "decoded_imgs_l1 = autoencoder_with_l1.predict(encoded_imgs_l1)"
      ],
      "metadata": {
        "colab": {
          "base_uri": "https://localhost:8080/"
        },
        "id": "2Nhtoc042QHY",
        "outputId": "dda0d823-4bae-4251-9ccc-349cd7ea625c"
      },
      "execution_count": 90,
      "outputs": [
        {
          "output_type": "stream",
          "name": "stdout",
          "text": [
            "313/313 [==============================] - 1s 2ms/step\n",
            "313/313 [==============================] - 1s 2ms/step\n"
          ]
        }
      ]
    },
    {
      "cell_type": "code",
      "source": [
        "n = 10\n",
        "plt.figure(figsize=(20, 4))\n",
        "for i in range(n):\n",
        "    # Display original images\n",
        "    ax = plt.subplot(2, n, i + 1)\n",
        "    plt.imshow(x_test[i].reshape(28, 28))\n",
        "    plt.gray()\n",
        "    ax.get_xaxis().set_visible(False)\n",
        "    ax.get_yaxis().set_visible(False)\n",
        "\n",
        "plt.show()"
      ],
      "metadata": {
        "colab": {
          "base_uri": "https://localhost:8080/",
          "height": 153
        },
        "id": "CJYqkrOr2QEj",
        "outputId": "9bf1c7ea-cbf8-4630-9fee-ce068a50b2a6"
      },
      "execution_count": 91,
      "outputs": [
        {
          "output_type": "display_data",
          "data": {
            "text/plain": [
              "<Figure size 2000x400 with 10 Axes>"
            ],
            "image/png": "[encoded data removed]"
          },
          "metadata": {}
        }
      ]
    },
    {
      "cell_type": "code",
      "source": [
        "plt.figure(figsize=(20, 4))\n",
        "for i in range(n):\n",
        "    # Display reconstructed images\n",
        "    ax = plt.subplot(2, n, i + n + 1)\n",
        "    plt.imshow(decoded_imgs_l1[i].reshape(28, 28))\n",
        "    plt.gray()\n",
        "    ax.get_xaxis().set_visible(False)\n",
        "    ax.get_yaxis().set_visible(False)\n",
        "\n",
        "plt.show()"
      ],
      "metadata": {
        "colab": {
          "base_uri": "https://localhost:8080/",
          "height": 153
        },
        "id": "tiYgdQxeORiI",
        "outputId": "5d99a8eb-d7cb-4cbf-e4fc-0b854806ebf9"
      },
      "execution_count": 92,
      "outputs": [
        {
          "output_type": "display_data",
          "data": {
            "text/plain": [
              "<Figure size 2000x400 with 10 Axes>"
            ],
            "image/png": "[encoded data removed]"
          },
          "metadata": {}
        }
      ]
    },
    {
      "cell_type": "code",
      "source": [],
      "metadata": {
        "id": "dFu_myUnORej"
      },
      "execution_count": 92,
      "outputs": []
    },
    {
      "cell_type": "markdown",
      "source": [
        "Autoencoder with l1 and l2 Regularization"
      ],
      "metadata": {
        "id": "SIV8DW14Oy_G"
      }
    },
    {
      "cell_type": "code",
      "source": [
        "encoder_with_l1_l2_input = keras.Input(shape = (28,28,1),name = 'Image')\n",
        "##\n",
        "x = keras.layers.Flatten()(encoder_with_l1_l2_input)\n",
        "##\n",
        "encoder_with_l1_l2_out = keras.layers.Dense(64, activation = 'relu', activity_regularizer=regularizers.l1_l2(10e-5))(x)\n",
        "##\n",
        "encoder_with_l1 = keras.Model(encoder_with_l1_l2_input, encoder_with_l1_l2_out , name=\"encoder\")\n",
        "##\n",
        "decoder_l1_l2_input = keras.layers.Dense(784, activation=\"relu\", activity_regularizer=regularizers.l1_l2(10e-5))(encoder_with_l1_l2_out )\n",
        "##\n",
        "decoder_l1_output = keras.layers.Reshape((28,28,1))(decoder_l1_l2_input)\n",
        "##\n",
        "autoencoder_with_l1_l2 =keras.Model(encoder_with_l1_l2_input, decoder_l1_output, name = \"autoencoder\")\n",
        "##\n",
        "autoencoder_with_l1_l2.summary()"
      ],
      "metadata": {
        "colab": {
          "base_uri": "https://localhost:8080/"
        },
        "id": "RB4QFQQ2ORbp",
        "outputId": "1e153711-8d32-486a-b32f-03a452e25d5c"
      },
      "execution_count": 34,
      "outputs": [
        {
          "output_type": "stream",
          "name": "stdout",
          "text": [
            "Model: \"autoencoder\"\n",
            "_________________________________________________________________\n",
            " Layer (type)                Output Shape              Param #   \n",
            "=================================================================\n",
            " Image (InputLayer)          [(None, 28, 28, 1)]       0         \n",
            "                                                                 \n",
            " flatten_4 (Flatten)         (None, 784)               0         \n",
            "                                                                 \n",
            " dense_6 (Dense)             (None, 64)                50240     \n",
            "                                                                 \n",
            " dense_7 (Dense)             (None, 784)               50960     \n",
            "                                                                 \n",
            " reshape_3 (Reshape)         (None, 28, 28, 1)         0         \n",
            "                                                                 \n",
            "=================================================================\n",
            "Total params: 101,200\n",
            "Trainable params: 101,200\n",
            "Non-trainable params: 0\n",
            "_________________________________________________________________\n"
          ]
        }
      ]
    },
    {
      "cell_type": "code",
      "source": [
        "autoencoder_with_l1_l2.compile(keras.optimizers.Adam(learning_rate=0.001), loss=\"mse\", metrics = ['accuracy'] )"
      ],
      "metadata": {
        "id": "59952ngjORYm"
      },
      "execution_count": 35,
      "outputs": []
    },
    {
      "cell_type": "code",
      "source": [
        "autoencoder_with_l1_l2.fit(x_train, x_train, epochs = 50, batch_size = 32, validation_split = 0.1,shuffle = True)"
      ],
      "metadata": {
        "colab": {
          "base_uri": "https://localhost:8080/"
        },
        "id": "TghTj3qLORVt",
        "outputId": "908ddf9e-51d6-4616-8dbc-b0ed38cf00f3"
      },
      "execution_count": 36,
      "outputs": [
        {
          "output_type": "stream",
          "name": "stdout",
          "text": [
            "Epoch 1/50\n",
            "1688/1688 [==============================] - 8s 4ms/step - loss: 0.1084 - accuracy: 0.8088 - val_loss: 0.1073 - val_accuracy: 0.8088\n",
            "Epoch 2/50\n",
            "1688/1688 [==============================] - 6s 4ms/step - loss: 0.1075 - accuracy: 0.8088 - val_loss: 0.1066 - val_accuracy: 0.8088\n",
            "Epoch 3/50\n",
            "1688/1688 [==============================] - 7s 4ms/step - loss: 0.1070 - accuracy: 0.8088 - val_loss: 0.1063 - val_accuracy: 0.8088\n",
            "Epoch 4/50\n",
            "1688/1688 [==============================] - 6s 4ms/step - loss: 0.1067 - accuracy: 0.8088 - val_loss: 0.1060 - val_accuracy: 0.8088\n",
            "Epoch 5/50\n",
            "1688/1688 [==============================] - 7s 4ms/step - loss: 0.1065 - accuracy: 0.8088 - val_loss: 0.1059 - val_accuracy: 0.8088\n",
            "Epoch 6/50\n",
            "1688/1688 [==============================] - 6s 4ms/step - loss: 0.1063 - accuracy: 0.8088 - val_loss: 0.1057 - val_accuracy: 0.8088\n",
            "Epoch 7/50\n",
            "1688/1688 [==============================] - 9s 5ms/step - loss: 0.1062 - accuracy: 0.8088 - val_loss: 0.1055 - val_accuracy: 0.8088\n",
            "Epoch 8/50\n",
            "1688/1688 [==============================] - 9s 6ms/step - loss: 0.1061 - accuracy: 0.8088 - val_loss: 0.1054 - val_accuracy: 0.8088\n",
            "Epoch 9/50\n",
            "1688/1688 [==============================] - 7s 4ms/step - loss: 0.1061 - accuracy: 0.8088 - val_loss: 0.1055 - val_accuracy: 0.8088\n",
            "Epoch 10/50\n",
            "1688/1688 [==============================] - 10s 6ms/step - loss: 0.1061 - accuracy: 0.8088 - val_loss: 0.1054 - val_accuracy: 0.8088\n",
            "Epoch 11/50\n",
            "1688/1688 [==============================] - 8s 5ms/step - loss: 0.1060 - accuracy: 0.8088 - val_loss: 0.1056 - val_accuracy: 0.8088\n",
            "Epoch 12/50\n",
            "1688/1688 [==============================] - 7s 4ms/step - loss: 0.1060 - accuracy: 0.8088 - val_loss: 0.1054 - val_accuracy: 0.8088\n",
            "Epoch 13/50\n",
            "1688/1688 [==============================] - 7s 4ms/step - loss: 0.1060 - accuracy: 0.8088 - val_loss: 0.1054 - val_accuracy: 0.8088\n",
            "Epoch 14/50\n",
            "1688/1688 [==============================] - 7s 4ms/step - loss: 0.1060 - accuracy: 0.8088 - val_loss: 0.1054 - val_accuracy: 0.8088\n",
            "Epoch 15/50\n",
            "1688/1688 [==============================] - 7s 4ms/step - loss: 0.1060 - accuracy: 0.8088 - val_loss: 0.1054 - val_accuracy: 0.8088\n",
            "Epoch 16/50\n",
            "1688/1688 [==============================] - 8s 5ms/step - loss: 0.1060 - accuracy: 0.8088 - val_loss: 0.1054 - val_accuracy: 0.8088\n",
            "Epoch 17/50\n",
            "1688/1688 [==============================] - 6s 4ms/step - loss: 0.1060 - accuracy: 0.8088 - val_loss: 0.1055 - val_accuracy: 0.8088\n",
            "Epoch 18/50\n",
            "1688/1688 [==============================] - 7s 4ms/step - loss: 0.1060 - accuracy: 0.8088 - val_loss: 0.1055 - val_accuracy: 0.8088\n",
            "Epoch 19/50\n",
            "1688/1688 [==============================] - 6s 4ms/step - loss: 0.1060 - accuracy: 0.8088 - val_loss: 0.1054 - val_accuracy: 0.8088\n",
            "Epoch 20/50\n",
            "1688/1688 [==============================] - 7s 4ms/step - loss: 0.1061 - accuracy: 0.8088 - val_loss: 0.1054 - val_accuracy: 0.8088\n",
            "Epoch 21/50\n",
            "1688/1688 [==============================] - 6s 4ms/step - loss: 0.1061 - accuracy: 0.8088 - val_loss: 0.1055 - val_accuracy: 0.8088\n",
            "Epoch 22/50\n",
            "1688/1688 [==============================] - 7s 4ms/step - loss: 0.1061 - accuracy: 0.8088 - val_loss: 0.1054 - val_accuracy: 0.8088\n",
            "Epoch 23/50\n",
            "1688/1688 [==============================] - 7s 4ms/step - loss: 0.1061 - accuracy: 0.8088 - val_loss: 0.1056 - val_accuracy: 0.8088\n",
            "Epoch 24/50\n",
            "1688/1688 [==============================] - 7s 4ms/step - loss: 0.1061 - accuracy: 0.8088 - val_loss: 0.1054 - val_accuracy: 0.8088\n",
            "Epoch 25/50\n",
            "1688/1688 [==============================] - 7s 4ms/step - loss: 0.1061 - accuracy: 0.8088 - val_loss: 0.1055 - val_accuracy: 0.8088\n",
            "Epoch 26/50\n",
            "1688/1688 [==============================] - 8s 5ms/step - loss: 0.1061 - accuracy: 0.8088 - val_loss: 0.1055 - val_accuracy: 0.8088\n",
            "Epoch 27/50\n",
            "1688/1688 [==============================] - 7s 4ms/step - loss: 0.1061 - accuracy: 0.8088 - val_loss: 0.1054 - val_accuracy: 0.8088\n",
            "Epoch 28/50\n",
            "1688/1688 [==============================] - 6s 4ms/step - loss: 0.1061 - accuracy: 0.8088 - val_loss: 0.1055 - val_accuracy: 0.8088\n",
            "Epoch 29/50\n",
            "1688/1688 [==============================] - 7s 4ms/step - loss: 0.1061 - accuracy: 0.8088 - val_loss: 0.1054 - val_accuracy: 0.8088\n",
            "Epoch 30/50\n",
            "1688/1688 [==============================] - 6s 4ms/step - loss: 0.1061 - accuracy: 0.8088 - val_loss: 0.1055 - val_accuracy: 0.8088\n",
            "Epoch 31/50\n",
            "1688/1688 [==============================] - 7s 4ms/step - loss: 0.1061 - accuracy: 0.8088 - val_loss: 0.1055 - val_accuracy: 0.8088\n",
            "Epoch 32/50\n",
            "1688/1688 [==============================] - 8s 4ms/step - loss: 0.1061 - accuracy: 0.8088 - val_loss: 0.1054 - val_accuracy: 0.8088\n",
            "Epoch 33/50\n",
            "1688/1688 [==============================] - 7s 4ms/step - loss: 0.1061 - accuracy: 0.8088 - val_loss: 0.1054 - val_accuracy: 0.8088\n",
            "Epoch 34/50\n",
            "1688/1688 [==============================] - 7s 4ms/step - loss: 0.1061 - accuracy: 0.8088 - val_loss: 0.1054 - val_accuracy: 0.8088\n",
            "Epoch 35/50\n",
            "1688/1688 [==============================] - 7s 4ms/step - loss: 0.1061 - accuracy: 0.8088 - val_loss: 0.1054 - val_accuracy: 0.8088\n",
            "Epoch 36/50\n",
            "1688/1688 [==============================] - 7s 4ms/step - loss: 0.1061 - accuracy: 0.8088 - val_loss: 0.1054 - val_accuracy: 0.8088\n",
            "Epoch 37/50\n",
            "1688/1688 [==============================] - 6s 4ms/step - loss: 0.1061 - accuracy: 0.8088 - val_loss: 0.1055 - val_accuracy: 0.8088\n",
            "Epoch 38/50\n",
            "1688/1688 [==============================] - 8s 5ms/step - loss: 0.1061 - accuracy: 0.8088 - val_loss: 0.1055 - val_accuracy: 0.8088\n",
            "Epoch 39/50\n",
            "1688/1688 [==============================] - 7s 4ms/step - loss: 0.1061 - accuracy: 0.8088 - val_loss: 0.1054 - val_accuracy: 0.8088\n",
            "Epoch 40/50\n",
            "1688/1688 [==============================] - 6s 4ms/step - loss: 0.1061 - accuracy: 0.8088 - val_loss: 0.1055 - val_accuracy: 0.8088\n",
            "Epoch 41/50\n",
            "1688/1688 [==============================] - 7s 4ms/step - loss: 0.1061 - accuracy: 0.8088 - val_loss: 0.1054 - val_accuracy: 0.8088\n",
            "Epoch 42/50\n",
            "1688/1688 [==============================] - 8s 4ms/step - loss: 0.1061 - accuracy: 0.8088 - val_loss: 0.1055 - val_accuracy: 0.8088\n",
            "Epoch 43/50\n",
            "1688/1688 [==============================] - 7s 4ms/step - loss: 0.1061 - accuracy: 0.8088 - val_loss: 0.1056 - val_accuracy: 0.8088\n",
            "Epoch 44/50\n",
            "1688/1688 [==============================] - 7s 4ms/step - loss: 0.1061 - accuracy: 0.8088 - val_loss: 0.1055 - val_accuracy: 0.8088\n",
            "Epoch 45/50\n",
            "1688/1688 [==============================] - 8s 4ms/step - loss: 0.1061 - accuracy: 0.8088 - val_loss: 0.1054 - val_accuracy: 0.8088\n",
            "Epoch 46/50\n",
            "1688/1688 [==============================] - 7s 4ms/step - loss: 0.1061 - accuracy: 0.8088 - val_loss: 0.1056 - val_accuracy: 0.8088\n",
            "Epoch 47/50\n",
            "1688/1688 [==============================] - 8s 5ms/step - loss: 0.1061 - accuracy: 0.8088 - val_loss: 0.1054 - val_accuracy: 0.8088\n",
            "Epoch 48/50\n",
            "1688/1688 [==============================] - 8s 5ms/step - loss: 0.1061 - accuracy: 0.8088 - val_loss: 0.1055 - val_accuracy: 0.8088\n",
            "Epoch 49/50\n",
            "1688/1688 [==============================] - 6s 4ms/step - loss: 0.1061 - accuracy: 0.8088 - val_loss: 0.1055 - val_accuracy: 0.8088\n",
            "Epoch 50/50\n",
            "1688/1688 [==============================] - 8s 5ms/step - loss: 0.1062 - accuracy: 0.8088 - val_loss: 0.1056 - val_accuracy: 0.8088\n"
          ]
        },
        {
          "output_type": "execute_result",
          "data": {
            "text/plain": [
              "<keras.callbacks.History at 0x7fbde07ce220>"
            ]
          },
          "metadata": {},
          "execution_count": 36
        }
      ]
    },
    {
      "cell_type": "code",
      "source": [
        "encoded_imgs_l1_l2 = autoencoder_with_l1_l2.predict(x_test)\n",
        "decoded_imgs_l1_l2 = autoencoder_with_l1_l2.predict(encoded_imgs_l1_l2)"
      ],
      "metadata": {
        "colab": {
          "base_uri": "https://localhost:8080/"
        },
        "id": "0LtlEWQ0ORSv",
        "outputId": "bf287b54-6f1b-48ce-ea75-617bbdf888f6"
      },
      "execution_count": 93,
      "outputs": [
        {
          "output_type": "stream",
          "name": "stdout",
          "text": [
            "313/313 [==============================] - 1s 2ms/step\n",
            "313/313 [==============================] - 1s 1ms/step\n"
          ]
        }
      ]
    },
    {
      "cell_type": "code",
      "source": [
        "n = 10\n",
        "plt.figure(figsize=(20, 4))\n",
        "for i in range(n):\n",
        "    # Display original images\n",
        "    ax = plt.subplot(2, n, i + 1)\n",
        "    plt.imshow(x_test[i].reshape(28, 28))\n",
        "    plt.gray()\n",
        "    ax.get_xaxis().set_visible(False)\n",
        "    ax.get_yaxis().set_visible(False)\n",
        "\n",
        "plt.show()"
      ],
      "metadata": {
        "colab": {
          "base_uri": "https://localhost:8080/",
          "height": 153
        },
        "id": "NAPfT24tORQM",
        "outputId": "fd388c7f-8c3b-485d-9dcf-8a4d90df9f52"
      },
      "execution_count": 94,
      "outputs": [
        {
          "output_type": "display_data",
          "data": {
            "text/plain": [
              "<Figure size 2000x400 with 10 Axes>"
            ],
            "image/png": "[encoded data removed]"
          },
          "metadata": {}
        }
      ]
    },
    {
      "cell_type": "code",
      "source": [
        "plt.figure(figsize=(20, 4))\n",
        "for i in range(n):\n",
        "    # Display reconstructed images\n",
        "    ax = plt.subplot(2, n, i + n + 1)\n",
        "    plt.imshow(decoded_imgs_l1_l2[i].reshape(28, 28))\n",
        "    plt.gray()\n",
        "    ax.get_xaxis().set_visible(False)\n",
        "    ax.get_yaxis().set_visible(False)\n",
        "\n",
        "plt.show()"
      ],
      "metadata": {
        "colab": {
          "base_uri": "https://localhost:8080/",
          "height": 153
        },
        "id": "vWq_kYERORNF",
        "outputId": "4de15616-0a53-4176-b956-5452468c4a5f"
      },
      "execution_count": 95,
      "outputs": [
        {
          "output_type": "display_data",
          "data": {
            "text/plain": [
              "<Figure size 2000x400 with 10 Axes>"
            ],
            "image/png": "[encoded data removed]"
          },
          "metadata": {}
        }
      ]
    },
    {
      "cell_type": "code",
      "source": [],
      "metadata": {
        "id": "Sf5ClEjrORKg"
      },
      "execution_count": 95,
      "outputs": []
    },
    {
      "cell_type": "markdown",
      "source": [
        "Autoencoder with l1 in encoding layer and l2 in decoding layer"
      ],
      "metadata": {
        "id": "0EYukImoR6FW"
      }
    },
    {
      "cell_type": "code",
      "source": [
        "encoder_with_el1_dl2_input = keras.Input(shape = (28,28,1),name = 'Image')\n",
        "##\n",
        "x = keras.layers.Flatten()(encoder_with_el1_dl2_input)\n",
        "##\n",
        "encoder_with_el1_dl2_out = keras.layers.Dense(64, activation = 'relu', activity_regularizer=regularizers.l1(10e-5))(x)\n",
        "##\n",
        "encoder_with_el1_dl2 = keras.Model(encoder_with_el1_dl2_input, encoder_with_el1_dl2_out , name=\"encoder\")\n",
        "##\n",
        "decoder_el1_dl2_input = keras.layers.Dense(784, activation=\"relu\", activity_regularizer=regularizers.l2(10e-5))(encoder_with_el1_dl2_out )\n",
        "##\n",
        "decoder_el1_dl2_output = keras.layers.Reshape((28,28,1))(decoder_el1_dl2_input)\n",
        "##\n",
        "autoencoder_with_el1_dl2 =keras.Model(encoder_with_el1_dl2_input, decoder_el1_dl2_output, name = \"autoencoder\")\n",
        "##\n",
        "autoencoder_with_el1_dl2.summary()"
      ],
      "metadata": {
        "colab": {
          "base_uri": "https://localhost:8080/"
        },
        "id": "h3NuNTBtORHt",
        "outputId": "cff9ea7c-1b4e-43f3-e48c-3425c6420528"
      },
      "execution_count": 75,
      "outputs": [
        {
          "output_type": "stream",
          "name": "stdout",
          "text": [
            "Model: \"autoencoder\"\n",
            "_________________________________________________________________\n",
            " Layer (type)                Output Shape              Param #   \n",
            "=================================================================\n",
            " Image (InputLayer)          [(None, 28, 28, 1)]       0         \n",
            "                                                                 \n",
            " flatten_16 (Flatten)        (None, 784)               0         \n",
            "                                                                 \n",
            " dense_25 (Dense)            (None, 64)                50240     \n",
            "                                                                 \n",
            " dense_26 (Dense)            (None, 784)               50960     \n",
            "                                                                 \n",
            " reshape_11 (Reshape)        (None, 28, 28, 1)         0         \n",
            "                                                                 \n",
            "=================================================================\n",
            "Total params: 101,200\n",
            "Trainable params: 101,200\n",
            "Non-trainable params: 0\n",
            "_________________________________________________________________\n"
          ]
        }
      ]
    },
    {
      "cell_type": "code",
      "source": [
        "autoencoder_with_el1_dl2.compile(keras.optimizers.Adam(learning_rate=0.001), loss=\"mse\", metrics = ['accuracy'] )"
      ],
      "metadata": {
        "id": "ZNE-c80rOREq"
      },
      "execution_count": 76,
      "outputs": []
    },
    {
      "cell_type": "code",
      "source": [
        "autoencoder_with_el1_dl2.fit(x_train, x_train, epochs = 50, batch_size = 32, validation_split = 0.1,shuffle = True)"
      ],
      "metadata": {
        "colab": {
          "base_uri": "https://localhost:8080/"
        },
        "id": "HC-oGu4kRZHf",
        "outputId": "5dca605f-1dad-4f19-9413-605b73e6ebfe"
      },
      "execution_count": 77,
      "outputs": [
        {
          "output_type": "stream",
          "name": "stdout",
          "text": [
            "Epoch 1/50\n",
            "1688/1688 [==============================] - 9s 5ms/step - loss: 0.0274 - accuracy: 0.8137 - val_loss: 0.0215 - val_accuracy: 0.8150\n",
            "Epoch 2/50\n",
            "1688/1688 [==============================] - 6s 3ms/step - loss: 0.0209 - accuracy: 0.8149 - val_loss: 0.0203 - val_accuracy: 0.8151\n",
            "Epoch 3/50\n",
            "1688/1688 [==============================] - 6s 4ms/step - loss: 0.0199 - accuracy: 0.8150 - val_loss: 0.0196 - val_accuracy: 0.8152\n",
            "Epoch 4/50\n",
            "1688/1688 [==============================] - 6s 3ms/step - loss: 0.0194 - accuracy: 0.8150 - val_loss: 0.0191 - val_accuracy: 0.8152\n",
            "Epoch 5/50\n",
            "1688/1688 [==============================] - 7s 4ms/step - loss: 0.0190 - accuracy: 0.8150 - val_loss: 0.0189 - val_accuracy: 0.8152\n",
            "Epoch 6/50\n",
            "1688/1688 [==============================] - 6s 3ms/step - loss: 0.0188 - accuracy: 0.8150 - val_loss: 0.0186 - val_accuracy: 0.8152\n",
            "Epoch 7/50\n",
            "1688/1688 [==============================] - 7s 4ms/step - loss: 0.0187 - accuracy: 0.8150 - val_loss: 0.0185 - val_accuracy: 0.8152\n",
            "Epoch 8/50\n",
            "1688/1688 [==============================] - 6s 3ms/step - loss: 0.0185 - accuracy: 0.8150 - val_loss: 0.0184 - val_accuracy: 0.8152\n",
            "Epoch 9/50\n",
            "1688/1688 [==============================] - 8s 5ms/step - loss: 0.0184 - accuracy: 0.8150 - val_loss: 0.0184 - val_accuracy: 0.8152\n",
            "Epoch 10/50\n",
            "1688/1688 [==============================] - 11s 6ms/step - loss: 0.0184 - accuracy: 0.8150 - val_loss: 0.0182 - val_accuracy: 0.8152\n",
            "Epoch 11/50\n",
            "1688/1688 [==============================] - 7s 4ms/step - loss: 0.0183 - accuracy: 0.8150 - val_loss: 0.0183 - val_accuracy: 0.8152\n",
            "Epoch 12/50\n",
            "1688/1688 [==============================] - 6s 4ms/step - loss: 0.0183 - accuracy: 0.8150 - val_loss: 0.0182 - val_accuracy: 0.8152\n",
            "Epoch 13/50\n",
            "1688/1688 [==============================] - 6s 4ms/step - loss: 0.0183 - accuracy: 0.8150 - val_loss: 0.0182 - val_accuracy: 0.8152\n",
            "Epoch 14/50\n",
            "1688/1688 [==============================] - 6s 4ms/step - loss: 0.0182 - accuracy: 0.8150 - val_loss: 0.0181 - val_accuracy: 0.8152\n",
            "Epoch 15/50\n",
            "1688/1688 [==============================] - 6s 4ms/step - loss: 0.0182 - accuracy: 0.8150 - val_loss: 0.0183 - val_accuracy: 0.8152\n",
            "Epoch 16/50\n",
            "1688/1688 [==============================] - 6s 3ms/step - loss: 0.0182 - accuracy: 0.8150 - val_loss: 0.0181 - val_accuracy: 0.8152\n",
            "Epoch 17/50\n",
            "1688/1688 [==============================] - 6s 4ms/step - loss: 0.0182 - accuracy: 0.8150 - val_loss: 0.0183 - val_accuracy: 0.8152\n",
            "Epoch 18/50\n",
            "1688/1688 [==============================] - 6s 3ms/step - loss: 0.0182 - accuracy: 0.8150 - val_loss: 0.0182 - val_accuracy: 0.8152\n",
            "Epoch 19/50\n",
            "1688/1688 [==============================] - 6s 4ms/step - loss: 0.0181 - accuracy: 0.8150 - val_loss: 0.0182 - val_accuracy: 0.8152\n",
            "Epoch 20/50\n",
            "1688/1688 [==============================] - 6s 4ms/step - loss: 0.0181 - accuracy: 0.8150 - val_loss: 0.0183 - val_accuracy: 0.8152\n",
            "Epoch 21/50\n",
            "1688/1688 [==============================] - 6s 4ms/step - loss: 0.0181 - accuracy: 0.8150 - val_loss: 0.0182 - val_accuracy: 0.8152\n",
            "Epoch 22/50\n",
            "1688/1688 [==============================] - 6s 4ms/step - loss: 0.0181 - accuracy: 0.8150 - val_loss: 0.0181 - val_accuracy: 0.8152\n",
            "Epoch 23/50\n",
            "1688/1688 [==============================] - 6s 4ms/step - loss: 0.0181 - accuracy: 0.8150 - val_loss: 0.0181 - val_accuracy: 0.8152\n",
            "Epoch 24/50\n",
            "1688/1688 [==============================] - 6s 4ms/step - loss: 0.0181 - accuracy: 0.8150 - val_loss: 0.0180 - val_accuracy: 0.8152\n",
            "Epoch 25/50\n",
            "1688/1688 [==============================] - 6s 4ms/step - loss: 0.0181 - accuracy: 0.8150 - val_loss: 0.0182 - val_accuracy: 0.8152\n",
            "Epoch 26/50\n",
            "1688/1688 [==============================] - 6s 3ms/step - loss: 0.0181 - accuracy: 0.8150 - val_loss: 0.0180 - val_accuracy: 0.8152\n",
            "Epoch 27/50\n",
            "1688/1688 [==============================] - 6s 4ms/step - loss: 0.0181 - accuracy: 0.8150 - val_loss: 0.0181 - val_accuracy: 0.8152\n",
            "Epoch 28/50\n",
            "1688/1688 [==============================] - 6s 4ms/step - loss: 0.0181 - accuracy: 0.8150 - val_loss: 0.0182 - val_accuracy: 0.8152\n",
            "Epoch 29/50\n",
            "1688/1688 [==============================] - 6s 4ms/step - loss: 0.0181 - accuracy: 0.8150 - val_loss: 0.0181 - val_accuracy: 0.8152\n",
            "Epoch 30/50\n",
            "1688/1688 [==============================] - 7s 4ms/step - loss: 0.0181 - accuracy: 0.8150 - val_loss: 0.0181 - val_accuracy: 0.8152\n",
            "Epoch 31/50\n",
            "1688/1688 [==============================] - 9s 5ms/step - loss: 0.0181 - accuracy: 0.8150 - val_loss: 0.0181 - val_accuracy: 0.8152\n",
            "Epoch 32/50\n",
            "1688/1688 [==============================] - 8s 5ms/step - loss: 0.0181 - accuracy: 0.8150 - val_loss: 0.0181 - val_accuracy: 0.8152\n",
            "Epoch 33/50\n",
            "1688/1688 [==============================] - 7s 4ms/step - loss: 0.0181 - accuracy: 0.8150 - val_loss: 0.0183 - val_accuracy: 0.8152\n",
            "Epoch 34/50\n",
            "1688/1688 [==============================] - 7s 4ms/step - loss: 0.0181 - accuracy: 0.8150 - val_loss: 0.0179 - val_accuracy: 0.8152\n",
            "Epoch 35/50\n",
            "1688/1688 [==============================] - 6s 4ms/step - loss: 0.0181 - accuracy: 0.8150 - val_loss: 0.0181 - val_accuracy: 0.8152\n",
            "Epoch 36/50\n",
            "1688/1688 [==============================] - 7s 4ms/step - loss: 0.0180 - accuracy: 0.8150 - val_loss: 0.0180 - val_accuracy: 0.8152\n",
            "Epoch 37/50\n",
            "1688/1688 [==============================] - 6s 3ms/step - loss: 0.0180 - accuracy: 0.8150 - val_loss: 0.0180 - val_accuracy: 0.8152\n",
            "Epoch 38/50\n",
            "1688/1688 [==============================] - 7s 4ms/step - loss: 0.0181 - accuracy: 0.8150 - val_loss: 0.0180 - val_accuracy: 0.8152\n",
            "Epoch 39/50\n",
            "1688/1688 [==============================] - 6s 4ms/step - loss: 0.0180 - accuracy: 0.8150 - val_loss: 0.0181 - val_accuracy: 0.8152\n",
            "Epoch 40/50\n",
            "1688/1688 [==============================] - 6s 4ms/step - loss: 0.0181 - accuracy: 0.8150 - val_loss: 0.0181 - val_accuracy: 0.8152\n",
            "Epoch 41/50\n",
            "1688/1688 [==============================] - 6s 3ms/step - loss: 0.0180 - accuracy: 0.8150 - val_loss: 0.0182 - val_accuracy: 0.8152\n",
            "Epoch 42/50\n",
            "1688/1688 [==============================] - 7s 4ms/step - loss: 0.0180 - accuracy: 0.8150 - val_loss: 0.0179 - val_accuracy: 0.8152\n",
            "Epoch 43/50\n",
            "1688/1688 [==============================] - 7s 4ms/step - loss: 0.0180 - accuracy: 0.8150 - val_loss: 0.0181 - val_accuracy: 0.8152\n",
            "Epoch 44/50\n",
            "1688/1688 [==============================] - 9s 5ms/step - loss: 0.0180 - accuracy: 0.8150 - val_loss: 0.0181 - val_accuracy: 0.8152\n",
            "Epoch 45/50\n",
            "1688/1688 [==============================] - 6s 4ms/step - loss: 0.0180 - accuracy: 0.8150 - val_loss: 0.0180 - val_accuracy: 0.8152\n",
            "Epoch 46/50\n",
            "1688/1688 [==============================] - 7s 4ms/step - loss: 0.0180 - accuracy: 0.8150 - val_loss: 0.0181 - val_accuracy: 0.8152\n",
            "Epoch 47/50\n",
            "1688/1688 [==============================] - 6s 4ms/step - loss: 0.0180 - accuracy: 0.8150 - val_loss: 0.0180 - val_accuracy: 0.8152\n",
            "Epoch 48/50\n",
            "1688/1688 [==============================] - 7s 4ms/step - loss: 0.0180 - accuracy: 0.8150 - val_loss: 0.0180 - val_accuracy: 0.8152\n",
            "Epoch 49/50\n",
            "1688/1688 [==============================] - 6s 4ms/step - loss: 0.0180 - accuracy: 0.8150 - val_loss: 0.0180 - val_accuracy: 0.8152\n",
            "Epoch 50/50\n",
            "1688/1688 [==============================] - 6s 4ms/step - loss: 0.0180 - accuracy: 0.8150 - val_loss: 0.0181 - val_accuracy: 0.8152\n"
          ]
        },
        {
          "output_type": "execute_result",
          "data": {
            "text/plain": [
              "<keras.callbacks.History at 0x7fbde0563d30>"
            ]
          },
          "metadata": {},
          "execution_count": 77
        }
      ]
    },
    {
      "cell_type": "code",
      "source": [
        "encoded_imgs_el1_dl2 = autoencoder_with_el1_dl2.predict(x_test)\n",
        "decoded_imgs_el1_dl2 = autoencoder_with_el1_dl2.predict(encoded_imgs_el1_dl2)"
      ],
      "metadata": {
        "colab": {
          "base_uri": "https://localhost:8080/"
        },
        "id": "r_UE8fLSRZD2",
        "outputId": "92672604-3322-46df-dedd-7f10470bf366"
      },
      "execution_count": 96,
      "outputs": [
        {
          "output_type": "stream",
          "name": "stdout",
          "text": [
            "313/313 [==============================] - 0s 1ms/step\n",
            "313/313 [==============================] - 0s 2ms/step\n"
          ]
        }
      ]
    },
    {
      "cell_type": "code",
      "source": [
        "n = 10\n",
        "plt.figure(figsize=(20, 4))\n",
        "for i in range(n):\n",
        "    # Display original images\n",
        "    ax = plt.subplot(2, n, i + 1)\n",
        "    plt.imshow(x_test[i].reshape(28, 28))\n",
        "    plt.gray()\n",
        "    ax.get_xaxis().set_visible(False)\n",
        "    ax.get_yaxis().set_visible(False)\n",
        "\n",
        "plt.show()"
      ],
      "metadata": {
        "colab": {
          "base_uri": "https://localhost:8080/",
          "height": 153
        },
        "id": "zaiOZuTFRZA_",
        "outputId": "bbf55d80-5574-4c11-a6b2-4e868250135e"
      },
      "execution_count": 97,
      "outputs": [
        {
          "output_type": "display_data",
          "data": {
            "text/plain": [
              "<Figure size 2000x400 with 10 Axes>"
            ],
            "image/png": "[encoded data removed]"
          },
          "metadata": {}
        }
      ]
    },
    {
      "cell_type": "code",
      "source": [
        "plt.figure(figsize=(20, 4))\n",
        "for i in range(n):\n",
        "    # Display reconstructed images\n",
        "    ax = plt.subplot(2, n, i + n + 1)\n",
        "    plt.imshow(decoded_imgs_el1_dl2[i].reshape(28, 28))\n",
        "    plt.gray()\n",
        "    ax.get_xaxis().set_visible(False)\n",
        "    ax.get_yaxis().set_visible(False)\n",
        "\n",
        "plt.show()"
      ],
      "metadata": {
        "colab": {
          "base_uri": "https://localhost:8080/",
          "height": 153
        },
        "id": "4mLmV1fERY-W",
        "outputId": "36ada29d-9c69-4ef6-abc5-2dc18d264e66"
      },
      "execution_count": 98,
      "outputs": [
        {
          "output_type": "display_data",
          "data": {
            "text/plain": [
              "<Figure size 2000x400 with 10 Axes>"
            ],
            "image/png": "[encoded data removed]"
          },
          "metadata": {}
        }
      ]
    },
    {
      "cell_type": "code",
      "source": [],
      "metadata": {
        "id": "-Xux8lhGRY7j"
      },
      "execution_count": 98,
      "outputs": []
    },
    {
      "cell_type": "markdown",
      "source": [
        "Autoencoder with l1 in decoding part"
      ],
      "metadata": {
        "id": "Maj_-o8JaJKV"
      }
    },
    {
      "cell_type": "code",
      "source": [
        "encoder_with_dl2_input = keras.Input(shape = (28,28,1),name = 'Image')\n",
        "##\n",
        "x = keras.layers.Flatten()(encoder_with_dl2_input)\n",
        "##\n",
        "encoder_with_dl2_out = keras.layers.Dense(64, activation = 'relu')(x)\n",
        "##\n",
        "encoder_with_dl2 = keras.Model(encoder_with_dl2_input, encoder_with_dl2_out , name=\"encoder\")\n",
        "##\n",
        "decoder_dl2_input = keras.layers.Dense(784, activation=\"relu\", activity_regularizer=regularizers.l2(10e-5))(encoder_with_dl2_out )\n",
        "##\n",
        "decoder_dl2_output = keras.layers.Reshape((28,28,1))(decoder_dl2_input)\n",
        "##\n",
        "autoencoder_with_dl2 =keras.Model(encoder_with_dl2_input, decoder_dl2_output, name = \"autoencoder\")\n",
        "##\n",
        "autoencoder_with_dl2.summary()"
      ],
      "metadata": {
        "colab": {
          "base_uri": "https://localhost:8080/"
        },
        "id": "gWK0UoewRY4r",
        "outputId": "2009a929-d5a6-4f6c-9d37-996a1a165495"
      },
      "execution_count": 101,
      "outputs": [
        {
          "output_type": "stream",
          "name": "stdout",
          "text": [
            "Model: \"autoencoder\"\n",
            "_________________________________________________________________\n",
            " Layer (type)                Output Shape              Param #   \n",
            "=================================================================\n",
            " Image (InputLayer)          [(None, 28, 28, 1)]       0         \n",
            "                                                                 \n",
            " flatten_19 (Flatten)        (None, 784)               0         \n",
            "                                                                 \n",
            " dense_31 (Dense)            (None, 64)                50240     \n",
            "                                                                 \n",
            " dense_32 (Dense)            (None, 784)               50960     \n",
            "                                                                 \n",
            " reshape_14 (Reshape)        (None, 28, 28, 1)         0         \n",
            "                                                                 \n",
            "=================================================================\n",
            "Total params: 101,200\n",
            "Trainable params: 101,200\n",
            "Non-trainable params: 0\n",
            "_________________________________________________________________\n"
          ]
        }
      ]
    },
    {
      "cell_type": "code",
      "source": [
        "autoencoder_with_dl2.compile(keras.optimizers.Adam(learning_rate=0.001), loss=\"mse\", metrics = ['accuracy'] )"
      ],
      "metadata": {
        "id": "-jbkls4Ma-Sr"
      },
      "execution_count": 102,
      "outputs": []
    },
    {
      "cell_type": "code",
      "source": [
        "autoencoder_with_dl2.fit(x_train, x_train, epochs = 50, batch_size = 32, validation_split = 0.1,shuffle = True)"
      ],
      "metadata": {
        "colab": {
          "base_uri": "https://localhost:8080/"
        },
        "id": "SdFxS2E9a-L0",
        "outputId": "e724f1db-298a-43e4-eb9e-34124cd60349"
      },
      "execution_count": 103,
      "outputs": [
        {
          "output_type": "stream",
          "name": "stdout",
          "text": [
            "Epoch 1/50\n",
            "1688/1688 [==============================] - 7s 4ms/step - loss: 0.0241 - accuracy: 0.8137 - val_loss: 0.0187 - val_accuracy: 0.8151\n",
            "Epoch 2/50\n",
            "1688/1688 [==============================] - 7s 4ms/step - loss: 0.0182 - accuracy: 0.8149 - val_loss: 0.0178 - val_accuracy: 0.8151\n",
            "Epoch 3/50\n",
            "1688/1688 [==============================] - 6s 4ms/step - loss: 0.0177 - accuracy: 0.8150 - val_loss: 0.0175 - val_accuracy: 0.8152\n",
            "Epoch 4/50\n",
            "1688/1688 [==============================] - 7s 4ms/step - loss: 0.0175 - accuracy: 0.8150 - val_loss: 0.0174 - val_accuracy: 0.8152\n",
            "Epoch 5/50\n",
            "1688/1688 [==============================] - 6s 3ms/step - loss: 0.0175 - accuracy: 0.8150 - val_loss: 0.0174 - val_accuracy: 0.8152\n",
            "Epoch 6/50\n",
            "1688/1688 [==============================] - 7s 4ms/step - loss: 0.0174 - accuracy: 0.8150 - val_loss: 0.0173 - val_accuracy: 0.8152\n",
            "Epoch 7/50\n",
            "1688/1688 [==============================] - 6s 4ms/step - loss: 0.0174 - accuracy: 0.8150 - val_loss: 0.0174 - val_accuracy: 0.8152\n",
            "Epoch 8/50\n",
            "1688/1688 [==============================] - 6s 4ms/step - loss: 0.0174 - accuracy: 0.8150 - val_loss: 0.0174 - val_accuracy: 0.8152\n",
            "Epoch 9/50\n",
            "1688/1688 [==============================] - 8s 5ms/step - loss: 0.0174 - accuracy: 0.8150 - val_loss: 0.0173 - val_accuracy: 0.8152\n",
            "Epoch 10/50\n",
            "1688/1688 [==============================] - 6s 3ms/step - loss: 0.0174 - accuracy: 0.8150 - val_loss: 0.0173 - val_accuracy: 0.8152\n",
            "Epoch 11/50\n",
            "1688/1688 [==============================] - 6s 4ms/step - loss: 0.0173 - accuracy: 0.8150 - val_loss: 0.0173 - val_accuracy: 0.8152\n",
            "Epoch 12/50\n",
            "1688/1688 [==============================] - 6s 3ms/step - loss: 0.0173 - accuracy: 0.8150 - val_loss: 0.0173 - val_accuracy: 0.8152\n",
            "Epoch 13/50\n",
            "1688/1688 [==============================] - 8s 5ms/step - loss: 0.0173 - accuracy: 0.8150 - val_loss: 0.0173 - val_accuracy: 0.8152\n",
            "Epoch 14/50\n",
            "1688/1688 [==============================] - 7s 4ms/step - loss: 0.0173 - accuracy: 0.8150 - val_loss: 0.0172 - val_accuracy: 0.8152\n",
            "Epoch 15/50\n",
            "1688/1688 [==============================] - 6s 4ms/step - loss: 0.0173 - accuracy: 0.8150 - val_loss: 0.0173 - val_accuracy: 0.8152\n",
            "Epoch 16/50\n",
            "1688/1688 [==============================] - 6s 3ms/step - loss: 0.0173 - accuracy: 0.8150 - val_loss: 0.0173 - val_accuracy: 0.8152\n",
            "Epoch 17/50\n",
            "1688/1688 [==============================] - 6s 4ms/step - loss: 0.0173 - accuracy: 0.8150 - val_loss: 0.0173 - val_accuracy: 0.8152\n",
            "Epoch 18/50\n",
            "1688/1688 [==============================] - 6s 3ms/step - loss: 0.0173 - accuracy: 0.8150 - val_loss: 0.0172 - val_accuracy: 0.8152\n",
            "Epoch 19/50\n",
            "1688/1688 [==============================] - 6s 4ms/step - loss: 0.0173 - accuracy: 0.8150 - val_loss: 0.0172 - val_accuracy: 0.8152\n",
            "Epoch 20/50\n",
            "1688/1688 [==============================] - 6s 3ms/step - loss: 0.0173 - accuracy: 0.8150 - val_loss: 0.0172 - val_accuracy: 0.8152\n",
            "Epoch 21/50\n",
            "1688/1688 [==============================] - 6s 4ms/step - loss: 0.0173 - accuracy: 0.8150 - val_loss: 0.0172 - val_accuracy: 0.8152\n",
            "Epoch 22/50\n",
            "1688/1688 [==============================] - 6s 3ms/step - loss: 0.0173 - accuracy: 0.8150 - val_loss: 0.0173 - val_accuracy: 0.8152\n",
            "Epoch 23/50\n",
            "1688/1688 [==============================] - 7s 4ms/step - loss: 0.0173 - accuracy: 0.8150 - val_loss: 0.0172 - val_accuracy: 0.8152\n",
            "Epoch 24/50\n",
            "1688/1688 [==============================] - 6s 3ms/step - loss: 0.0173 - accuracy: 0.8150 - val_loss: 0.0173 - val_accuracy: 0.8152\n",
            "Epoch 25/50\n",
            "1688/1688 [==============================] - 6s 4ms/step - loss: 0.0173 - accuracy: 0.8150 - val_loss: 0.0173 - val_accuracy: 0.8152\n",
            "Epoch 26/50\n",
            "1688/1688 [==============================] - 5s 3ms/step - loss: 0.0173 - accuracy: 0.8150 - val_loss: 0.0172 - val_accuracy: 0.8152\n",
            "Epoch 27/50\n",
            "1688/1688 [==============================] - 6s 4ms/step - loss: 0.0173 - accuracy: 0.8150 - val_loss: 0.0172 - val_accuracy: 0.8152\n",
            "Epoch 28/50\n",
            "1688/1688 [==============================] - 6s 4ms/step - loss: 0.0173 - accuracy: 0.8150 - val_loss: 0.0172 - val_accuracy: 0.8152\n",
            "Epoch 29/50\n",
            "1688/1688 [==============================] - 6s 4ms/step - loss: 0.0173 - accuracy: 0.8150 - val_loss: 0.0172 - val_accuracy: 0.8152\n",
            "Epoch 30/50\n",
            "1688/1688 [==============================] - 6s 3ms/step - loss: 0.0173 - accuracy: 0.8150 - val_loss: 0.0172 - val_accuracy: 0.8152\n",
            "Epoch 31/50\n",
            "1688/1688 [==============================] - 6s 4ms/step - loss: 0.0173 - accuracy: 0.8150 - val_loss: 0.0172 - val_accuracy: 0.8152\n",
            "Epoch 32/50\n",
            "1688/1688 [==============================] - 6s 3ms/step - loss: 0.0173 - accuracy: 0.8150 - val_loss: 0.0172 - val_accuracy: 0.8152\n",
            "Epoch 33/50\n",
            "1688/1688 [==============================] - 6s 4ms/step - loss: 0.0173 - accuracy: 0.8150 - val_loss: 0.0172 - val_accuracy: 0.8152\n",
            "Epoch 34/50\n",
            "1688/1688 [==============================] - 6s 3ms/step - loss: 0.0173 - accuracy: 0.8150 - val_loss: 0.0172 - val_accuracy: 0.8152\n",
            "Epoch 35/50\n",
            "1688/1688 [==============================] - 7s 4ms/step - loss: 0.0173 - accuracy: 0.8150 - val_loss: 0.0172 - val_accuracy: 0.8152\n",
            "Epoch 36/50\n",
            "1688/1688 [==============================] - 6s 3ms/step - loss: 0.0173 - accuracy: 0.8150 - val_loss: 0.0173 - val_accuracy: 0.8152\n",
            "Epoch 37/50\n",
            "1688/1688 [==============================] - 6s 4ms/step - loss: 0.0173 - accuracy: 0.8150 - val_loss: 0.0172 - val_accuracy: 0.8152\n",
            "Epoch 38/50\n",
            "1688/1688 [==============================] - 6s 3ms/step - loss: 0.0173 - accuracy: 0.8150 - val_loss: 0.0172 - val_accuracy: 0.8152\n",
            "Epoch 39/50\n",
            "1688/1688 [==============================] - 6s 4ms/step - loss: 0.0173 - accuracy: 0.8150 - val_loss: 0.0172 - val_accuracy: 0.8152\n",
            "Epoch 40/50\n",
            "1688/1688 [==============================] - 6s 3ms/step - loss: 0.0173 - accuracy: 0.8150 - val_loss: 0.0173 - val_accuracy: 0.8152\n",
            "Epoch 41/50\n",
            "1688/1688 [==============================] - 6s 4ms/step - loss: 0.0173 - accuracy: 0.8150 - val_loss: 0.0173 - val_accuracy: 0.8152\n",
            "Epoch 42/50\n",
            "1688/1688 [==============================] - 6s 3ms/step - loss: 0.0173 - accuracy: 0.8150 - val_loss: 0.0172 - val_accuracy: 0.8152\n",
            "Epoch 43/50\n",
            "1688/1688 [==============================] - 6s 4ms/step - loss: 0.0173 - accuracy: 0.8150 - val_loss: 0.0172 - val_accuracy: 0.8152\n",
            "Epoch 44/50\n",
            "1688/1688 [==============================] - 6s 3ms/step - loss: 0.0173 - accuracy: 0.8150 - val_loss: 0.0173 - val_accuracy: 0.8152\n",
            "Epoch 45/50\n",
            "1688/1688 [==============================] - 6s 4ms/step - loss: 0.0173 - accuracy: 0.8150 - val_loss: 0.0172 - val_accuracy: 0.8152\n",
            "Epoch 46/50\n",
            "1688/1688 [==============================] - 6s 4ms/step - loss: 0.0173 - accuracy: 0.8150 - val_loss: 0.0172 - val_accuracy: 0.8152\n",
            "Epoch 47/50\n",
            "1688/1688 [==============================] - 6s 3ms/step - loss: 0.0173 - accuracy: 0.8150 - val_loss: 0.0173 - val_accuracy: 0.8152\n",
            "Epoch 48/50\n",
            "1688/1688 [==============================] - 6s 4ms/step - loss: 0.0173 - accuracy: 0.8150 - val_loss: 0.0172 - val_accuracy: 0.8152\n",
            "Epoch 49/50\n",
            "1688/1688 [==============================] - 6s 3ms/step - loss: 0.0173 - accuracy: 0.8150 - val_loss: 0.0172 - val_accuracy: 0.8152\n",
            "Epoch 50/50\n",
            "1688/1688 [==============================] - 6s 4ms/step - loss: 0.0173 - accuracy: 0.8150 - val_loss: 0.0172 - val_accuracy: 0.8152\n"
          ]
        },
        {
          "output_type": "execute_result",
          "data": {
            "text/plain": [
              "<keras.callbacks.History at 0x7fbde020bc10>"
            ]
          },
          "metadata": {},
          "execution_count": 103
        }
      ]
    },
    {
      "cell_type": "code",
      "source": [
        "encoded_imgs_dl2 = autoencoder_with_dl2.predict(x_test)\n",
        "decoded_imgs_dl2 = autoencoder_with_dl2.predict(encoded_imgs_dl2)"
      ],
      "metadata": {
        "colab": {
          "base_uri": "https://localhost:8080/"
        },
        "id": "dwSA6K04RY2L",
        "outputId": "2505202d-3250-4678-ec19-0586063f29de"
      },
      "execution_count": 104,
      "outputs": [
        {
          "output_type": "stream",
          "name": "stdout",
          "text": [
            "313/313 [==============================] - 1s 1ms/step\n",
            "313/313 [==============================] - 1s 1ms/step\n"
          ]
        }
      ]
    },
    {
      "cell_type": "code",
      "source": [
        "n = 10\n",
        "plt.figure(figsize=(20, 4))\n",
        "for i in range(n):\n",
        "    # Display original images\n",
        "    ax = plt.subplot(2, n, i + 1)\n",
        "    plt.imshow(x_test[i].reshape(28, 28))\n",
        "    plt.gray()\n",
        "    ax.get_xaxis().set_visible(False)\n",
        "    ax.get_yaxis().set_visible(False)\n",
        "\n",
        "plt.show()"
      ],
      "metadata": {
        "colab": {
          "base_uri": "https://localhost:8080/",
          "height": 153
        },
        "id": "mmDU7HW_ORB6",
        "outputId": "c89391e4-69db-4eba-b2b9-56bac0cff507"
      },
      "execution_count": 105,
      "outputs": [
        {
          "output_type": "display_data",
          "data": {
            "text/plain": [
              "<Figure size 2000x400 with 10 Axes>"
            ],
            "image/png": "[encoded data removed]"
          },
          "metadata": {}
        }
      ]
    },
    {
      "cell_type": "code",
      "source": [
        "plt.figure(figsize=(20, 4))\n",
        "for i in range(n):\n",
        "    # Display reconstructed images\n",
        "    ax = plt.subplot(2, n, i + n + 1)\n",
        "    plt.imshow(decoded_imgs_dl2[i].reshape(28, 28))\n",
        "    plt.gray()\n",
        "    ax.get_xaxis().set_visible(False)\n",
        "    ax.get_yaxis().set_visible(False)\n",
        "\n",
        "plt.show()"
      ],
      "metadata": {
        "colab": {
          "base_uri": "https://localhost:8080/",
          "height": 153
        },
        "id": "QiU1TOsfScqv",
        "outputId": "3e4b84f1-55eb-45d9-a35e-8e7d5e8f2e2c"
      },
      "execution_count": 106,
      "outputs": [
        {
          "output_type": "display_data",
          "data": {
            "text/plain": [
              "<Figure size 2000x400 with 10 Axes>"
            ],
            "image/png": "[encoded data removed]"
          },
          "metadata": {}
        }
      ]
    },
    {
      "cell_type": "code",
      "source": [],
      "metadata": {
        "id": "rgmOmmOEScnU"
      },
      "execution_count": null,
      "outputs": []
    },
    {
      "cell_type": "code",
      "source": [],
      "metadata": {
        "id": "P1FkUycbScW3"
      },
      "execution_count": null,
      "outputs": []
    },
    {
      "cell_type": "code",
      "source": [],
      "metadata": {
        "id": "VaaQilQ6T0Ml"
      },
      "execution_count": null,
      "outputs": []
    },
    {
      "cell_type": "code",
      "source": [],
      "metadata": {
        "id": "KdZES6PbT0JF"
      },
      "execution_count": null,
      "outputs": []
    },
    {
      "cell_type": "code",
      "source": [],
      "metadata": {
        "id": "3-zA4cfFT0Gf"
      },
      "execution_count": null,
      "outputs": []
    },
    {
      "cell_type": "code",
      "source": [],
      "metadata": {
        "id": "sXOOJh34T0Dd"
      },
      "execution_count": null,
      "outputs": []
    },
    {
      "cell_type": "code",
      "source": [],
      "metadata": {
        "id": "GE0UMdvqT0Az"
      },
      "execution_count": null,
      "outputs": []
    },
    {
      "cell_type": "code",
      "source": [],
      "metadata": {
        "id": "Nwr87uxbTz-Q"
      },
      "execution_count": null,
      "outputs": []
    },
    {
      "cell_type": "code",
      "source": [],
      "metadata": {
        "id": "7s-9-dD7Tz7k"
      },
      "execution_count": null,
      "outputs": []
    },
    {
      "cell_type": "code",
      "source": [],
      "metadata": {
        "id": "U8bs5ajzTz41"
      },
      "execution_count": null,
      "outputs": []
    },
    {
      "cell_type": "code",
      "source": [],
      "metadata": {
        "id": "91fRFUwxTz2K"
      },
      "execution_count": null,
      "outputs": []
    }
  ],
  "metadata": {
    "accelerator": "GPU",
    "colab": {
      "provenance": []
    },
    "gpuClass": "standard",
    "kernelspec": {
      "display_name": "Python 3",
      "name": "python3"
    },
    "language_info": {
      "name": "python"
    }
  },
  "nbformat": 4,
  "nbformat_minor": 0
}